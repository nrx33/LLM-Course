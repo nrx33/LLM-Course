{
 "cells": [
  {
   "cell_type": "code",
   "execution_count": 1,
   "metadata": {},
   "outputs": [],
   "source": [
    "# import libraries\n",
    "from groq import Groq\n",
    "from dotenv import load_dotenv\n",
    "import os"
   ]
  },
  {
   "cell_type": "code",
   "execution_count": 2,
   "metadata": {},
   "outputs": [
    {
     "data": {
      "text/plain": [
       "True"
      ]
     },
     "execution_count": 2,
     "metadata": {},
     "output_type": "execute_result"
    }
   ],
   "source": [
    "# load environment variables\n",
    "load_dotenv()"
   ]
  },
  {
   "cell_type": "code",
   "execution_count": 3,
   "metadata": {},
   "outputs": [],
   "source": [
    "# create client calling Groq class\n",
    "client = Groq(api_key=os.getenv('GROQ_API_KEY'))"
   ]
  },
  {
   "cell_type": "code",
   "execution_count": 4,
   "metadata": {},
   "outputs": [],
   "source": [
    "# create a query\n",
    "response = client.chat.completions.create(\n",
    "    messages=[\n",
    "        {\n",
    "            \"role\": \"user\",\n",
    "            \"content\": \"Is it too late to join the course?\",\n",
    "        }\n",
    "    ],\n",
    "    model=\"llama3-8b-8192\",\n",
    ")"
   ]
  },
  {
   "cell_type": "code",
   "execution_count": 5,
   "metadata": {},
   "outputs": [
    {
     "name": "stdout",
     "output_type": "stream",
     "text": [
      "It depends on the specific course you're interested in and the circumstances surrounding it. Here are a few factors that could help you determine if it's too late to join:\n",
      "\n",
      "1. **Duration of the course**: If the course is already in progress, it might be too late to join. However, if it's a longer course or has a flexible schedule, you might still be able to join.\n",
      "2. **Mid-term or end of the course**: If the course has already reached its mid-point or is nearing its conclusion, it might be difficult to catch up. In this case, joining the course might be less beneficial or even counterproductive.\n",
      "3. **Prerequisites**: Some courses have prerequisites, such as completion of previous modules or skills. If you're joining a course midway through, you might not have the necessary foundation to fully benefit from it.\n",
      "4. **Instructor's schedule**: If the instructor has already completed the course materials or is addressing a specific topic, joining might not be feasible.\n",
      "5. **Group dynamics**: If the course is focused on group discussions, collaborative projects, or teamwork, joining late might disrupt the dynamics and make it challenging for you to contribute effectively.\n",
      "\n",
      "Before joining a course, it's essential to:\n",
      "\n",
      "1. **Check with the instructor or course organizer**: Reach out to the instructor or course organizer to inquire about the course's status, deadlines, and any potential obstacles to joining late.\n",
      "2. **Evaluate the course's flexibility**: Understand the course's flexibility in accommodating late joiners. Some courses might be more accommodating than others.\n",
      "3. **Assess your goals and expectations**: Be honest about your goals and what you hope to achieve from the course. If you're unsure or lack the necessary foundation, it might be wise to consider a different course or prerequisites.\n",
      "\n",
      "In summary, it's not always too late to join a course, but it's crucial to assess the course's progress, requirements, and your own goals and expectations before making a decision.\n"
     ]
    }
   ],
   "source": [
    "# print the response\n",
    "print(response.choices[0].message.content)"
   ]
  }
 ],
 "metadata": {
  "kernelspec": {
   "display_name": "Python 3",
   "language": "python",
   "name": "python3"
  },
  "language_info": {
   "codemirror_mode": {
    "name": "ipython",
    "version": 3
   },
   "file_extension": ".py",
   "mimetype": "text/x-python",
   "name": "python",
   "nbconvert_exporter": "python",
   "pygments_lexer": "ipython3",
   "version": "3.10.13"
  }
 },
 "nbformat": 4,
 "nbformat_minor": 2
}
