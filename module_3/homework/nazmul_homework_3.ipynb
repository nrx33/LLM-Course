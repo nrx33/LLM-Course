{
 "cells": [
  {
   "cell_type": "code",
   "execution_count": 32,
   "metadata": {},
   "outputs": [],
   "source": [
    "# Import necessary libraries\n",
    "from sentence_transformers import SentenceTransformer\n",
    "import requests\n",
    "import numpy as np\n",
    "import pandas as pd\n",
    "from tqdm.auto import tqdm \n",
    "from elasticsearch import Elasticsearch\n",
    "from numpy.linalg import norm"
   ]
  },
  {
   "cell_type": "code",
   "execution_count": 2,
   "metadata": {},
   "outputs": [],
   "source": [
    "# select model\n",
    "model = \"multi-qa-distilbert-cos-v1\"\n",
    "\n",
    "# connect to model\n",
    "embedding_model = SentenceTransformer(model)"
   ]
  },
  {
   "cell_type": "code",
   "execution_count": 3,
   "metadata": {},
   "outputs": [
    {
     "name": "stdout",
     "output_type": "stream",
     "text": [
      "Q1: The first value of the resulting vector is 0.078\n"
     ]
    }
   ],
   "source": [
    "# encode the user question\n",
    "query = 'I just discovered the course. Can I still join it?'\n",
    "v = embedding_model.encode(query)\n",
    "\n",
    "# print the first value of the resulting vector\n",
    "print (f\"Q1: The first value of the resulting vector is {v[0]:.3f}\")"
   ]
  },
  {
   "cell_type": "code",
   "execution_count": 4,
   "metadata": {},
   "outputs": [],
   "source": [
    "# load the documents\n",
    "base_url = 'https://github.com/DataTalksClub/llm-zoomcamp/blob/main'\n",
    "relative_url = '03-vector-search/eval/documents-with-ids.json'\n",
    "docs_url = f'{base_url}/{relative_url}?raw=1'\n",
    "docs_response = requests.get(docs_url)\n",
    "documents = docs_response.json()"
   ]
  },
  {
   "cell_type": "code",
   "execution_count": 5,
   "metadata": {},
   "outputs": [],
   "source": [
    "# Filter the documents for by course\n",
    "course_name = \"machine-learning-zoomcamp\"\n",
    "filtered_documents = [doc for doc in documents if doc[\"course\"] == course_name]  "
   ]
  },
  {
   "cell_type": "code",
   "execution_count": 6,
   "metadata": {},
   "outputs": [
    {
     "data": {
      "text/plain": [
       "375"
      ]
     },
     "execution_count": 6,
     "metadata": {},
     "output_type": "execute_result"
    }
   ],
   "source": [
    "# see the number of documents after filtering\n",
    "len(filtered_documents)"
   ]
  },
  {
   "cell_type": "code",
   "execution_count": 7,
   "metadata": {},
   "outputs": [
    {
     "data": {
      "application/vnd.jupyter.widget-view+json": {
       "model_id": "b08ab49f7ed247a0b0d3e3d0c7d09c17",
       "version_major": 2,
       "version_minor": 0
      },
      "text/plain": [
       "  0%|          | 0/375 [00:00<?, ?it/s]"
      ]
     },
     "metadata": {},
     "output_type": "display_data"
    }
   ],
   "source": [
    "# create a variable to store the combined embeddings \n",
    "embedding_qa = []\n",
    "\n",
    "# loop through the filtered documents and encode the combined question and text\n",
    "for doc in tqdm(filtered_documents):\n",
    "    qa_text = f\"{doc['question']} {doc['text']}\"\n",
    "    embedding = embedding_model.encode(qa_text)\n",
    "    embedding_qa.append(embedding)"
   ]
  },
  {
   "cell_type": "code",
   "execution_count": 8,
   "metadata": {},
   "outputs": [
    {
     "name": "stdout",
     "output_type": "stream",
     "text": [
      "Q2: Shape of X is (375, 768)\n"
     ]
    }
   ],
   "source": [
    "# convert the list to a numpy array\n",
    "x = np.array(embedding_qa)\n",
    "\n",
    "# print the shape of the resulting array\n",
    "print(\"Q2: Shape of X is\", x.shape)"
   ]
  },
  {
   "cell_type": "code",
   "execution_count": 9,
   "metadata": {},
   "outputs": [],
   "source": [
    "# Compute the dot product\n",
    "scores = x.dot(v)"
   ]
  },
  {
   "cell_type": "code",
   "execution_count": 10,
   "metadata": {},
   "outputs": [
    {
     "name": "stdout",
     "output_type": "stream",
     "text": [
      "Q3: The highest score is: 0.6506574153900146\n"
     ]
    }
   ],
   "source": [
    "# Find the highest score\n",
    "print(f\"Q3: The highest score is: {np.max(scores)}\")"
   ]
  },
  {
   "cell_type": "code",
   "execution_count": 11,
   "metadata": {},
   "outputs": [],
   "source": [
    "# Define the VectorSearchEngine class\n",
    "class VectorSearchEngine:\n",
    "    def __init__(self, documents, embeddings):\n",
    "        self.documents = documents\n",
    "        self.embeddings = embeddings\n",
    "\n",
    "    def search(self, v_query, num_results=5):\n",
    "        scores = self.embeddings.dot(v_query)\n",
    "        idx = np.argpartition(-scores, num_results)[:num_results]\n",
    "        top_idx = idx[np.argsort(-scores[idx])]\n",
    "        return [self.documents[i] for i in top_idx]\n",
    "    \n",
    "search_engine = VectorSearchEngine(documents=filtered_documents, embeddings=x)"
   ]
  },
  {
   "cell_type": "code",
   "execution_count": 12,
   "metadata": {},
   "outputs": [],
   "source": [
    "base_url = 'https://github.com/DataTalksClub/llm-zoomcamp/blob/main'\n",
    "relative_url = '03-vector-search/eval/ground-truth-data.csv'\n",
    "ground_truth_url = f'{base_url}/{relative_url}?raw=1'\n",
    "\n",
    "df_ground_truth = pd.read_csv(ground_truth_url)\n",
    "df_ground_truth = df_ground_truth[df_ground_truth.course == 'machine-learning-zoomcamp']\n",
    "ground_truth = df_ground_truth.to_dict(orient='records')"
   ]
  },
  {
   "cell_type": "code",
   "execution_count": 13,
   "metadata": {},
   "outputs": [],
   "source": [
    "def hit_rate(relevance_total):\n",
    "    hits = sum(any(relevance) for relevance in relevance_total)\n",
    "    total_queries = len(relevance_total)\n",
    "    hit_rate_value = hits / total_queries if total_queries > 0 else 0\n",
    "    return hit_rate_value"
   ]
  },
  {
   "cell_type": "code",
   "execution_count": 14,
   "metadata": {},
   "outputs": [
    {
     "data": {
      "application/vnd.jupyter.widget-view+json": {
       "model_id": "59b80d0176174a429fd005787706b8fa",
       "version_major": 2,
       "version_minor": 0
      },
      "text/plain": [
       "  0%|          | 0/1830 [00:00<?, ?it/s]"
      ]
     },
     "metadata": {},
     "output_type": "display_data"
    }
   ],
   "source": [
    "# Calculate the relevance of each query\n",
    "relevance_total = []\n",
    "\n",
    "for q in tqdm(ground_truth):\n",
    "    doc_id = q['document']\n",
    "    question = q['question']\n",
    "    embed = embedding_model.encode(question)\n",
    "    results = search_engine.search(embed)\n",
    "    relevance = [d['id'] == doc_id for d in results]\n",
    "    relevance_total.append(relevance)"
   ]
  },
  {
   "cell_type": "code",
   "execution_count": 15,
   "metadata": {},
   "outputs": [
    {
     "name": "stdout",
     "output_type": "stream",
     "text": [
      "Q4: Hit rate for vector search 0.94\n"
     ]
    }
   ],
   "source": [
    "# Calculate the hit rate\n",
    "print(f\"Q4: Hit rate for vector search {hit_rate(relevance_total):.2f}\")"
   ]
  },
  {
   "cell_type": "code",
   "execution_count": 16,
   "metadata": {},
   "outputs": [],
   "source": [
    "# setup elastic search client\n",
    "es_client = Elasticsearch('http://localhost:9200') "
   ]
  },
  {
   "cell_type": "code",
   "execution_count": 17,
   "metadata": {},
   "outputs": [
    {
     "data": {
      "text/plain": [
       "ObjectApiResponse({'acknowledged': True, 'shards_acknowledged': True, 'index': 'course-questions'})"
      ]
     },
     "execution_count": 17,
     "metadata": {},
     "output_type": "execute_result"
    }
   ],
   "source": [
    "# define the index name and settings\n",
    "index_name = \"course-questions\"\n",
    "index_settings = {\n",
    "    \"settings\": {\"number_of_shards\": 1, \"number_of_replicas\": 0},\n",
    "    \"mappings\": {\n",
    "        \"properties\": {\n",
    "            \"course\": {\"type\": \"keyword\"},\n",
    "            \"question\": {\"type\": \"text\"},\n",
    "            \"text\": {\"type\": \"text\"},\n",
    "            \"embedding\": {\"type\": \"dense_vector\", \"dims\": 768},\n",
    "            \"id\": {\"type\": \"keyword\"},\n",
    "            \"section\": {\"type\": \"text\"}\n",
    "        }\n",
    "    }\n",
    "}\n",
    "\n",
    "\n",
    "# Delete the index if it exists otherwise create it\n",
    "es_client.indices.delete(index=index_name, ignore_unavailable=True)\n",
    "es_client.indices.create(index=index_name, body=index_settings)"
   ]
  },
  {
   "cell_type": "code",
   "execution_count": 18,
   "metadata": {},
   "outputs": [],
   "source": [
    "# combine the embeddings and the filtered documents\n",
    "for i in range(len(filtered_documents)):\n",
    "    filtered_documents[i]['embedding'] = x[i]"
   ]
  },
  {
   "cell_type": "code",
   "execution_count": 19,
   "metadata": {},
   "outputs": [],
   "source": [
    "# Define the function to index documents with a custom ID\n",
    "def index_documents(documents, index_name):\n",
    "    responses = []\n",
    "    for document in documents:\n",
    "        response = es_client.index(index=index_name, id=document[\"id\"], body=document)\n",
    "        responses.append(response)\n",
    "    return responses\n",
    "\n",
    "# Index the documents\n",
    "responses = index_documents(filtered_documents, index_name)"
   ]
  },
  {
   "cell_type": "code",
   "execution_count": 37,
   "metadata": {},
   "outputs": [],
   "source": [
    "# Define the function to perform KNN search and find the ID of the document with the highest score\n",
    "def elastic_search_knn(vector, course=course_name, k=5):\n",
    "    knn_query = {\n",
    "        \"_source\": [\"question\", \"text\", \"id\", \"section\"],\n",
    "        \"query\": {\n",
    "            \"script_score\": {\n",
    "                \"query\": {\"match\": {\"course\": course}}, \n",
    "                \"script\": {\n",
    "                    \"source\": \"cosineSimilarity(params.query_vector, 'embedding') + 1.0\",\n",
    "                    \"params\": {\"query_vector\": vector}\n",
    "                }\n",
    "            }\n",
    "        },\n",
    "        \"size\": k\n",
    "    }\n",
    "    response = es_client.search(index=index_name, body=knn_query)\n",
    "    hits = response['hits']['hits']\n",
    "    \n",
    "    return hits\n",
    "\n",
    "response = elastic_search_knn(v, course_name)"
   ]
  },
  {
   "cell_type": "code",
   "execution_count": 38,
   "metadata": {},
   "outputs": [
    {
     "name": "stdout",
     "output_type": "stream",
     "text": [
      "Q5: The ID of the document with the highest score is: ee58a693\n"
     ]
    }
   ],
   "source": [
    "print(f\"Q5: The ID of the document with the highest score is: {response[0]['_id']}\")"
   ]
  },
  {
   "cell_type": "code",
   "execution_count": 39,
   "metadata": {},
   "outputs": [
    {
     "data": {
      "application/vnd.jupyter.widget-view+json": {
       "model_id": "074a3665f3cb4f2a8db4b08204a1f9b3",
       "version_major": 2,
       "version_minor": 0
      },
      "text/plain": [
       "  0%|          | 0/1830 [00:00<?, ?it/s]"
      ]
     },
     "metadata": {},
     "output_type": "display_data"
    }
   ],
   "source": [
    "# calculate the relevance of each query\n",
    "relevance_total = []\n",
    "\n",
    "for q in tqdm(ground_truth):\n",
    "    doc_id = q['document']\n",
    "    question = q['question']\n",
    "    embed = embedding_model.encode(question)\n",
    "    results = elastic_search_knn(embed)\n",
    "    relevance = [d['_source']['id'] == doc_id for d in results]\n",
    "    relevance_total.append(relevance)"
   ]
  },
  {
   "cell_type": "code",
   "execution_count": 40,
   "metadata": {},
   "outputs": [
    {
     "name": "stdout",
     "output_type": "stream",
     "text": [
      "Q6: Hit rate for elastic search is 0.94\n"
     ]
    }
   ],
   "source": [
    "# Calculate the hit rate\n",
    "print(f\"Q6: Hit rate for elastic search is {hit_rate(relevance_total):.2f}\")"
   ]
  },
  {
   "cell_type": "code",
   "execution_count": null,
   "metadata": {},
   "outputs": [],
   "source": []
  }
 ],
 "metadata": {
  "kernelspec": {
   "display_name": "Python 3",
   "language": "python",
   "name": "python3"
  },
  "language_info": {
   "codemirror_mode": {
    "name": "ipython",
    "version": 3
   },
   "file_extension": ".py",
   "mimetype": "text/x-python",
   "name": "python",
   "nbconvert_exporter": "python",
   "pygments_lexer": "ipython3",
   "version": "3.10.12"
  }
 },
 "nbformat": 4,
 "nbformat_minor": 2
}
