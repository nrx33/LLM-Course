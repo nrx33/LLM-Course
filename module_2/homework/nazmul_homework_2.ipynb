{
 "cells": [
  {
   "cell_type": "markdown",
   "metadata": {},
   "source": [
    "##### Homework #2\n",
    "##### Nazmul Rabbi\n",
    "##### 07/04/2024"
   ]
  },
  {
   "cell_type": "code",
   "execution_count": 1,
   "metadata": {},
   "outputs": [],
   "source": [
    "# import libraries\n",
    "import json"
   ]
  },
  {
   "cell_type": "code",
   "execution_count": 2,
   "metadata": {},
   "outputs": [
    {
     "name": "stdout",
     "output_type": "stream",
     "text": [
      "Q1:\n",
      "\n",
      "\n",
      "ollama version is 0.1.48\n"
     ]
    }
   ],
   "source": [
    "print(\"Q1:\\n\\n\")\n",
    "!ollama --version"
   ]
  },
  {
   "cell_type": "code",
   "execution_count": 3,
   "metadata": {},
   "outputs": [
    {
     "name": "stdout",
     "output_type": "stream",
     "text": [
      "Q2:\n",
      "\n",
      " {\n",
      "    \"schemaVersion\": 2,\n",
      "    \"mediaType\": \"application/vnd.docker.distribution.manifest.v2+json\",\n",
      "    \"config\": {\n",
      "        \"mediaType\": \"application/vnd.docker.container.image.v1+json\",\n",
      "        \"digest\": \"sha256:887433b89a901c156f7e6944442f3c9e57f3c55d6ed52042cbb7303aea994290\",\n",
      "        \"size\": 483\n",
      "    },\n",
      "    \"layers\": [\n",
      "        {\n",
      "            \"mediaType\": \"application/vnd.ollama.image.model\",\n",
      "            \"digest\": \"sha256:c1864a5eb19305c40519da12cc543519e48a0697ecd30e15d5ac228644957d12\",\n",
      "            \"size\": 1678447520\n",
      "        },\n",
      "        {\n",
      "            \"mediaType\": \"application/vnd.ollama.image.license\",\n",
      "            \"digest\": \"sha256:097a36493f718248845233af1d3fefe7a303f864fae13bc31a3a9704229378ca\",\n",
      "            \"size\": 8433\n",
      "        },\n",
      "        {\n",
      "            \"mediaType\": \"application/vnd.ollama.image.template\",\n",
      "            \"digest\": \"sha256:109037bec39c0becc8221222ae23557559bc594290945a2c4221ab4f303b8871\",\n",
      "            \"size\": 136\n",
      "        },\n",
      "        {\n",
      "            \"mediaType\": \"application/vnd.ollama.image.params\",\n",
      "            \"digest\": \"sha256:22a838ceb7fb22755a3b0ae9b4eadde629d19be1f651f73efb8c6b4e2cd0eea0\",\n",
      "            \"size\": 84\n",
      "        }\n",
      "    ]\n",
      "}\n"
     ]
    }
   ],
   "source": [
    "with open('/home/nrabbi/self-learning/DTC/LLM-Course/module_2/homework/ollama_files/models/manifests/registry.ollama.ai/library/gemma/2b', 'r') as file:\n",
    "    data = json.load(file)\n",
    "\n",
    "# Print the JSON data in a readable format\n",
    "print(\"Q2:\\n\\n\", json.dumps(data, indent=4))"
   ]
  },
  {
   "cell_type": "code",
   "execution_count": 4,
   "metadata": {},
   "outputs": [
    {
     "name": "stdout",
     "output_type": "stream",
     "text": [
      "Q3:\n",
      "\n",
      "\n",
      "\u001b[?25l⠙ \u001b[?25h\u001b[?25l\u001b[2K\u001b[1G⠹ \u001b[?25h\u001b[?25l\u001b[2K\u001b[1G⠸ \u001b[?25h\u001b[?25l\u001b[2K\u001b[1G⠼ \u001b[?25h\u001b[?25l\u001b[2K\u001b[1G⠴ \u001b[?25h\u001b[?25l\u001b[2K\u001b[1G⠦ \u001b[?25h\u001b[?25l\u001b[2K\u001b[1G⠧ \u001b[?25h\u001b[?25l\u001b[2K\u001b[1G⠇ \u001b[?25h\u001b[?25l\u001b[2K\u001b[1G⠏ \u001b[?25h\u001b[?25l\u001b[2K\u001b[1G⠋ \u001b[?25h\u001b[?25l\u001b[2K\u001b[1G⠙ \u001b[?25h\u001b[?25l\u001b[?25l\u001b[2K\u001b[1G\u001b[?25h\u001b[2K\u001b[1G\u001b[?25hSure\u001b[?25l\u001b[?25h.\u001b[?25l\u001b[?25h The\u001b[?25l\u001b[?25h result\u001b[?25l\u001b[?25h of\u001b[?25l\u001b[?25h \u001b[?25l\u001b[?25h1\u001b[?25l\u001b[?25h0\u001b[?25l\u001b[?25h *\u001b[?25l\u001b[?25h \u001b[?25l\u001b[?25h1\u001b[?25l\u001b[?25h0\u001b[?25l\u001b[?25h is\u001b[?25l\u001b[?25h \u001b[?25l\u001b[?25h1\u001b[?25l\u001b[?25h0\u001b[?25l\u001b[?25h0\u001b[?25l\u001b[?25h.\u001b[?25l\u001b[?25h\n",
      "\n",
      "\u001b[?25l\u001b[?25h"
     ]
    }
   ],
   "source": [
    "print(\"Q3:\\n\\n\")\n",
    "!ollama run gemma:2b <<< \"10 * 10\""
   ]
  },
  {
   "cell_type": "code",
   "execution_count": 5,
   "metadata": {},
   "outputs": [
    {
     "name": "stdout",
     "output_type": "stream",
     "text": [
      "Q4:\n",
      "\n",
      "\n",
      "1.6G\t./ollama_files/models\n"
     ]
    }
   ],
   "source": [
    "print(\"Q4:\\n\\n\")\n",
    "!du -sh ./ollama_files/models"
   ]
  },
  {
   "cell_type": "code",
   "execution_count": 6,
   "metadata": {},
   "outputs": [
    {
     "name": "stdout",
     "output_type": "stream",
     "text": [
      "Q5: COPY ./ollama_files /root/.ollama\n"
     ]
    }
   ],
   "source": [
    "print(\"Q5: COPY ./ollama_files /root/.ollama\")"
   ]
  },
  {
   "cell_type": "code",
   "execution_count": 7,
   "metadata": {},
   "outputs": [
    {
     "name": "stdout",
     "output_type": "stream",
     "text": [
      "Q6: Completion Tokens Used: 304 \n"
     ]
    }
   ],
   "source": [
    "print(\"Q6: Completion Tokens Used: 304\")"
   ]
  }
 ],
 "metadata": {
  "kernelspec": {
   "display_name": "Python 3",
   "language": "python",
   "name": "python3"
  },
  "language_info": {
   "codemirror_mode": {
    "name": "ipython",
    "version": 3
   },
   "file_extension": ".py",
   "mimetype": "text/x-python",
   "name": "python",
   "nbconvert_exporter": "python",
   "pygments_lexer": "ipython3",
   "version": "3.10.12"
  }
 },
 "nbformat": 4,
 "nbformat_minor": 2
}
