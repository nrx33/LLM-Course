{
 "cells": [
  {
   "cell_type": "markdown",
   "metadata": {},
   "source": [
    "##### Homework 5\n",
    "##### Nazmul Rabbi\n",
    "##### 08/13/2024"
   ]
  },
  {
   "cell_type": "code",
   "execution_count": 1,
   "metadata": {},
   "outputs": [
    {
     "name": "stdout",
     "output_type": "stream",
     "text": [
      "Q1: Mage version is 0.9.72\n"
     ]
    }
   ],
   "source": [
    "print(\"Q1: Mage version is 0.9.72\")"
   ]
  },
  {
   "cell_type": "code",
   "execution_count": 2,
   "metadata": {},
   "outputs": [
    {
     "name": "stdout",
     "output_type": "stream",
     "text": [
      "Q2: Number of FAQ Documents are 1\n"
     ]
    }
   ],
   "source": [
    "print(\"Q2: Number of FAQ Documents are 1\")"
   ]
  },
  {
   "cell_type": "code",
   "execution_count": 3,
   "metadata": {},
   "outputs": [
    {
     "name": "stdout",
     "output_type": "stream",
     "text": [
      "Q3: Number of Chunks are 86\n"
     ]
    }
   ],
   "source": [
    "print(\"Q3: Number of Chunks are 86\")"
   ]
  },
  {
   "cell_type": "code",
   "execution_count": 6,
   "metadata": {},
   "outputs": [
    {
     "name": "stdout",
     "output_type": "stream",
     "text": [
      "Q4: The last document id is 6fc3236a\n"
     ]
    }
   ],
   "source": [
    "print(\"Q4: The last document id is 6fc3236a\")"
   ]
  },
  {
   "cell_type": "code",
   "execution_count": 1,
   "metadata": {},
   "outputs": [
    {
     "name": "stdout",
     "output_type": "stream",
     "text": [
      "Q5: The ID of the top matching result is bf024675\n"
     ]
    }
   ],
   "source": [
    "print(\"Q5: The ID of the top matching result is bf024675\")"
   ]
  },
  {
   "cell_type": "code",
   "execution_count": 3,
   "metadata": {},
   "outputs": [
    {
     "name": "stdout",
     "output_type": "stream",
     "text": [
      "Q6: The ID of the top matching result for new document is b6fa77f3\n"
     ]
    }
   ],
   "source": [
    "print(\"Q6: The ID of the top matching result for new document is b6fa77f3\")"
   ]
  }
 ],
 "metadata": {
  "kernelspec": {
   "display_name": "Python 3",
   "language": "python",
   "name": "python3"
  },
  "language_info": {
   "codemirror_mode": {
    "name": "ipython",
    "version": 3
   },
   "file_extension": ".py",
   "mimetype": "text/x-python",
   "name": "python",
   "nbconvert_exporter": "python",
   "pygments_lexer": "ipython3",
   "version": "3.10.12"
  }
 },
 "nbformat": 4,
 "nbformat_minor": 2
}
