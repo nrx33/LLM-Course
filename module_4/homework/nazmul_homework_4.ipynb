{
 "cells": [
  {
   "cell_type": "markdown",
   "metadata": {},
   "source": [
    "##### Homework 4\n",
    "##### Nazmul Rabbi\n",
    "##### 07/26/2024"
   ]
  },
  {
   "cell_type": "code",
   "execution_count": 1,
   "metadata": {},
   "outputs": [
    {
     "name": "stderr",
     "output_type": "stream",
     "text": [
      "/usr/local/python/3.10.13/lib/python3.10/site-packages/sentence_transformers/cross_encoder/CrossEncoder.py:11: TqdmExperimentalWarning: Using `tqdm.autonotebook.tqdm` in notebook mode. Use `tqdm.tqdm` instead to force console mode (e.g. in jupyter console)\n",
      "  from tqdm.autonotebook import tqdm, trange\n"
     ]
    }
   ],
   "source": [
    "# import libraries\n",
    "import pandas as pd\n",
    "import numpy as np\n",
    "from sentence_transformers import SentenceTransformer\n",
    "from tqdm import tqdm\n",
    "from rouge import Rouge"
   ]
  },
  {
   "cell_type": "code",
   "execution_count": 2,
   "metadata": {},
   "outputs": [],
   "source": [
    "# initialize tqdm for pandas\n",
    "tqdm.pandas()"
   ]
  },
  {
   "cell_type": "code",
   "execution_count": 3,
   "metadata": {},
   "outputs": [],
   "source": [
    "# data source url\n",
    "github_url = \"https://github.com/DataTalksClub/llm-zoomcamp/blob/main/04-monitoring/data/results-gpt4o-mini.csv\"\n",
    "\n",
    "# load data\n",
    "url = f'{github_url}?raw=1'\n",
    "df = pd.read_csv(url)\n",
    "\n",
    "# filter data\n",
    "df = df.iloc[:300]"
   ]
  },
  {
   "cell_type": "code",
   "execution_count": 4,
   "metadata": {},
   "outputs": [],
   "source": [
    "# select the embeddings model\n",
    "model_name = 'multi-qa-mpnet-base-dot-v1'\n",
    "\n",
    "# load the model\n",
    "embedding_model = SentenceTransformer(model_name)"
   ]
  },
  {
   "cell_type": "code",
   "execution_count": 5,
   "metadata": {},
   "outputs": [
    {
     "name": "stdout",
     "output_type": "stream",
     "text": [
      "Q1: The first value of the resulting vector -0.42\n"
     ]
    }
   ],
   "source": [
    "# Create the embeddings for the first LLM answer\n",
    "answer_llm = df.iloc[0].answer_llm\n",
    "embedding = embedding_model.encode(answer_llm)\n",
    "\n",
    "# print the first value of the resulting vector\n",
    "print(f\"Q1: The first value of the resulting vector {embedding[0]:.2f}\")"
   ]
  },
  {
   "cell_type": "code",
   "execution_count": 6,
   "metadata": {},
   "outputs": [
    {
     "name": "stderr",
     "output_type": "stream",
     "text": [
      "100%|██████████| 300/300 [00:37<00:00,  8.05it/s]\n",
      "100%|██████████| 300/300 [00:49<00:00,  6.02it/s]\n",
      "100%|██████████| 300/300 [00:00<00:00, 66117.98it/s]\n"
     ]
    }
   ],
   "source": [
    "# Initialize evaluations as an empty list\n",
    "evaluations = []\n",
    "\n",
    "# Compute embeddings for both answer_llm and answer_orig with tqdm progress bar\n",
    "df['embedding_answer_llm'] = df['answer_llm'].progress_apply(lambda x: embedding_model.encode(x))\n",
    "df['embedding_answer_orig'] = df['answer_orig'].progress_apply(lambda x: embedding_model.encode(x))\n",
    "\n",
    "# Compute dot products and store in evaluations list with tqdm progress bar\n",
    "evaluations = df.progress_apply(lambda row: np.dot(row['embedding_answer_llm'], row['embedding_answer_orig']), axis=1).tolist()"
   ]
  },
  {
   "cell_type": "code",
   "execution_count": 7,
   "metadata": {},
   "outputs": [
    {
     "name": "stdout",
     "output_type": "stream",
     "text": [
      "Q2: The 75th percentile of the scores is 31.67\n"
     ]
    }
   ],
   "source": [
    "# Calculate the 75th percentile of the scores\n",
    "percentile_75 = np.percentile(evaluations, 75)\n",
    "\n",
    "# print the result\n",
    "print(f\"Q2: The 75th percentile of the scores is {percentile_75:.2f}\")"
   ]
  },
  {
   "cell_type": "code",
   "execution_count": 8,
   "metadata": {},
   "outputs": [],
   "source": [
    "# Function to normalize a vector\n",
    "def normalize_vector(v):\n",
    "    norm = np.sqrt((v * v).sum())\n",
    "    return v / norm\n",
    "\n",
    "# Initialize evaluations as an empty list\n",
    "evaluations = []\n",
    "\n",
    "# Normalize the embeddings and compute cosine similarity\n",
    "for i in range(len(df)):\n",
    "    embedding_llm_norm = normalize_vector(df.iloc[i]['embedding_answer_llm'])\n",
    "    embedding_orig_norm = normalize_vector(df.iloc[i]['embedding_answer_orig'])\n",
    "    cosine_similarity = np.dot(embedding_llm_norm, embedding_orig_norm)\n",
    "    evaluations.append(cosine_similarity)"
   ]
  },
  {
   "cell_type": "code",
   "execution_count": 9,
   "metadata": {},
   "outputs": [
    {
     "name": "stdout",
     "output_type": "stream",
     "text": [
      "Q3: The 75th percentile cosine scores is 0.84\n"
     ]
    }
   ],
   "source": [
    "# Calculate the 75th percentile of the scores\n",
    "percentile_75 = np.percentile(evaluations, 75)\n",
    "\n",
    "# print the result\n",
    "print(f\"Q3: The 75th percentile cosine scores is {percentile_75:.2f}\")"
   ]
  },
  {
   "cell_type": "code",
   "execution_count": 10,
   "metadata": {},
   "outputs": [],
   "source": [
    "# Initialize the Rouge scorer\n",
    "rouge_scorer = Rouge()\n",
    "\n",
    "# Compute the ROUGE scores\n",
    "scores = rouge_scorer.get_scores(df.loc[10, 'answer_llm'], df.loc[10, 'answer_orig'])[0]"
   ]
  },
  {
   "cell_type": "code",
   "execution_count": 11,
   "metadata": {},
   "outputs": [
    {
     "name": "stdout",
     "output_type": "stream",
     "text": [
      "Q4: The F1 score for ROUGE-1 at index 10 is 0.45\n"
     ]
    }
   ],
   "source": [
    "# Extract the F1 score for rouge-1\n",
    "rouge_1_f_score = scores['rouge-1']['f']\n",
    "\n",
    "# print the result\n",
    "print(f\"Q4: The F1 score for ROUGE-1 at index 10 is {rouge_1_f_score:.2f}\")"
   ]
  },
  {
   "cell_type": "code",
   "execution_count": 12,
   "metadata": {},
   "outputs": [
    {
     "name": "stdout",
     "output_type": "stream",
     "text": [
      "Q5: The average ROUGE score (F1) for index 10 is 0.35\n"
     ]
    }
   ],
   "source": [
    "# Calculate the average F1 score for ROUGE-1, ROUGE-2, and ROUGE-L\n",
    "average_f_score = np.mean([scores[metric]['f'] for metric in ['rouge-1', 'rouge-2', 'rouge-l']])\n",
    "\n",
    "# print the result\n",
    "print(f\"Q5: The average ROUGE score (F1) for index 10 is {average_f_score:.2f}\")"
   ]
  },
  {
   "cell_type": "code",
   "execution_count": 13,
   "metadata": {},
   "outputs": [],
   "source": [
    "# Initialize lists to store the ROUGE scores\n",
    "rouge_2_scores = []\n",
    "\n",
    "# Iterate over all records in the dataframe and compute ROUGE scores\n",
    "for i in range(len(df)):\n",
    "    scores = rouge_scorer.get_scores(df.loc[i, 'answer_llm'], df.loc[i, 'answer_orig'])[0]\n",
    "    rouge_2_scores.append(scores['rouge-2']['f'])"
   ]
  },
  {
   "cell_type": "code",
   "execution_count": 14,
   "metadata": {},
   "outputs": [
    {
     "name": "stdout",
     "output_type": "stream",
     "text": [
      "Q6: The average ROUGE-2 score across all records is 0.21\n"
     ]
    }
   ],
   "source": [
    "# Calculate the average ROUGE-2 score across all records\n",
    "average_rouge_2 = np.mean(rouge_2_scores)\n",
    "\n",
    "# print the result\n",
    "print(f\"Q6: The average ROUGE-2 score across all records is {average_rouge_2:.2f}\")"
   ]
  }
 ],
 "metadata": {
  "kernelspec": {
   "display_name": "Python 3",
   "language": "python",
   "name": "python3"
  },
  "language_info": {
   "codemirror_mode": {
    "name": "ipython",
    "version": 3
   },
   "file_extension": ".py",
   "mimetype": "text/x-python",
   "name": "python",
   "nbconvert_exporter": "python",
   "pygments_lexer": "ipython3",
   "version": "3.10.13"
  }
 },
 "nbformat": 4,
 "nbformat_minor": 2
}
